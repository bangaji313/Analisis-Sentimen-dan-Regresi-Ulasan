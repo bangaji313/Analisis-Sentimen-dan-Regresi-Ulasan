{
  "cells": [
    {
      "cell_type": "markdown",
      "metadata": {
        "id": "sKi5D9qVVJvY"
      },
      "source": [
        "# **[Scraping] Tugas Besar IFB-310 Machine Learning**\n",
        "## Tujuan\n",
        "\n",
        "Melakukan scraping review pengguna dari aplikasi **Wondr by BNI** yang tersedia di Google Play Store menggunakan **google-play-scraper**. Data yang dikumpulkan akan digunakan untuk analisis sentimen pada proyek Submission 1 kelas Belajar Fundamental Deep Learning Dicoding. Target pengambilan review adalah minimal 3.000 data dan maksimal 10.000 data."
      ]
    },
    {
      "cell_type": "markdown",
      "metadata": {
        "id": "fKADPWcFKlj3"
      },
      "source": [
        "# **1. Import Library**\n",
        "Pada tahap ini, saya mengimpor beberapa pustaka (library) Python yang dibutuhkan untuk scraping komentar."
      ]
    },
    {
      "cell_type": "code",
      "execution_count": 65,
      "metadata": {
        "id": "BlmvjLY9M4Yj"
      },
      "outputs": [
        {
          "name": "stderr",
          "output_type": "stream",
          "text": [
            "[nltk_data] Downloading package punkt to\n",
            "[nltk_data]     C:\\Users\\Administrator\\AppData\\Roaming\\nltk_data...\n",
            "[nltk_data]   Package punkt is already up-to-date!\n",
            "[nltk_data] Downloading package stopwords to\n",
            "[nltk_data]     C:\\Users\\Administrator\\AppData\\Roaming\\nltk_data...\n",
            "[nltk_data]   Package stopwords is already up-to-date!\n"
          ]
        },
        {
          "data": {
            "text/plain": [
              "True"
            ]
          },
          "execution_count": 65,
          "metadata": {},
          "output_type": "execute_result"
        }
      ],
      "source": [
        "# Library scraping dari Google Play Store\n",
        "from google_play_scraper import app, reviews_all, Sort\n",
        "\n",
        "# Manipulasi dan analisis data\n",
        "import pandas as pd\n",
        "pd.options.mode.chained_assignment = None\n",
        "import numpy as np\n",
        "\n",
        "# Konfigurasi seed dan download data\n",
        "seed = 0\n",
        "np.random.seed(seed)\n",
        "nltk.download('punkt')\n",
        "nltk.download('stopwords')\n"
      ]
    },
    {
      "cell_type": "markdown",
      "metadata": {
        "id": "f3YIEnAFKrKL"
      },
      "source": [
        "# **2. Informasi Aplikasi**"
      ]
    },
    {
      "cell_type": "code",
      "execution_count": 66,
      "metadata": {},
      "outputs": [
        {
          "name": "stdout",
          "output_type": "stream",
          "text": [
            "Nama Aplikasi : wondr by BNI\n",
            "Developer     : PT Bank Negara Indonesia (Persero) Tbk.\n",
            "Deskripsi     :\n",
            "Looking for a financial partner to simplify your life? wondr by BNI's newest features got you covered! Everything finance-related is now easier to manage and handle! \n",
            "\n",
            "With wondr by BNI, you can:\n",
            "🔸 Withdraw cash without card – Use Mobile Tunai feature and you are good to go!\n",
            "🔸 Manage your credit card easily – Apply, activate, convert transaction into installments, turn your limit into cash, and customize your credit card to fit your lifestyle\n",
            "🔸Track your assets and loans with Portfolio – Al...\n"
          ]
        }
      ],
      "source": [
        "# Menampilkan informasi aplikasi Wondr by BNI dari Google Play Store\n",
        "app_info = app('id.bni.wondr')\n",
        "\n",
        "# Tampilkan nama dan deskripsi singkat aplikasi\n",
        "print(f\"Nama Aplikasi : {app_info['title']}\")\n",
        "print(f\"Developer     : {app_info['developer']}\")\n",
        "print(f\"Deskripsi     :\\n{app_info['description'][:500]}...\")\n"
      ]
    },
    {
      "cell_type": "markdown",
      "metadata": {},
      "source": [
        "# **3. Scraping Review dari Google Play Store**"
      ]
    },
    {
      "cell_type": "code",
      "execution_count": 68,
      "metadata": {
        "id": "hN9KsJPonVKT"
      },
      "outputs": [
        {
          "name": "stdout",
          "output_type": "stream",
          "text": [
            "Jumlah review yang berhasil diambil: 39316\n"
          ]
        },
        {
          "data": {
            "text/html": [
              "<div>\n",
              "<style scoped>\n",
              "    .dataframe tbody tr th:only-of-type {\n",
              "        vertical-align: middle;\n",
              "    }\n",
              "\n",
              "    .dataframe tbody tr th {\n",
              "        vertical-align: top;\n",
              "    }\n",
              "\n",
              "    .dataframe thead th {\n",
              "        text-align: right;\n",
              "    }\n",
              "</style>\n",
              "<table border=\"1\" class=\"dataframe\">\n",
              "  <thead>\n",
              "    <tr style=\"text-align: right;\">\n",
              "      <th></th>\n",
              "      <th>userName</th>\n",
              "      <th>content</th>\n",
              "      <th>score</th>\n",
              "      <th>at</th>\n",
              "    </tr>\n",
              "  </thead>\n",
              "  <tbody>\n",
              "    <tr>\n",
              "      <th>0</th>\n",
              "      <td>Pengguna Google</td>\n",
              "      <td>bagus cuma agak lelet</td>\n",
              "      <td>4</td>\n",
              "      <td>2025-05-21 09:36:49</td>\n",
              "    </tr>\n",
              "    <tr>\n",
              "      <th>1</th>\n",
              "      <td>Pengguna Google</td>\n",
              "      <td>bagus mantaf</td>\n",
              "      <td>5</td>\n",
              "      <td>2025-05-21 09:24:05</td>\n",
              "    </tr>\n",
              "    <tr>\n",
              "      <th>2</th>\n",
              "      <td>Pengguna Google</td>\n",
              "      <td>sampe kapan gangguan sistim terus, mau daftar ...</td>\n",
              "      <td>3</td>\n",
              "      <td>2025-05-21 09:14:49</td>\n",
              "    </tr>\n",
              "    <tr>\n",
              "      <th>3</th>\n",
              "      <td>Pengguna Google</td>\n",
              "      <td>Transaksi cepat dan mudah berkat aplikasi ini....</td>\n",
              "      <td>5</td>\n",
              "      <td>2025-05-21 09:06:12</td>\n",
              "    </tr>\n",
              "    <tr>\n",
              "      <th>4</th>\n",
              "      <td>Pengguna Google</td>\n",
              "      <td>wonder lebih bagus dari BNI mobile</td>\n",
              "      <td>5</td>\n",
              "      <td>2025-05-21 09:01:32</td>\n",
              "    </tr>\n",
              "  </tbody>\n",
              "</table>\n",
              "</div>"
            ],
            "text/plain": [
              "          userName                                            content  score  \\\n",
              "0  Pengguna Google                              bagus cuma agak lelet      4   \n",
              "1  Pengguna Google                                       bagus mantaf      5   \n",
              "2  Pengguna Google  sampe kapan gangguan sistim terus, mau daftar ...      3   \n",
              "3  Pengguna Google  Transaksi cepat dan mudah berkat aplikasi ini....      5   \n",
              "4  Pengguna Google                 wonder lebih bagus dari BNI mobile      5   \n",
              "\n",
              "                   at  \n",
              "0 2025-05-21 09:36:49  \n",
              "1 2025-05-21 09:24:05  \n",
              "2 2025-05-21 09:14:49  \n",
              "3 2025-05-21 09:06:12  \n",
              "4 2025-05-21 09:01:32  "
            ]
          },
          "execution_count": 68,
          "metadata": {},
          "output_type": "execute_result"
        }
      ],
      "source": [
        "# Fungsi scraping semua review dari aplikasi Wondr by BNI\n",
        "reviews_data = reviews_all(\n",
        "    'id.bni.wondr',\n",
        "    lang='id',  # Bahasa Indonesia\n",
        "    country='id',\n",
        "    sort=Sort.NEWEST,  # Urutkan berdasarkan yang terbaru\n",
        ")\n",
        "\n",
        "# Ubah ke DataFrame\n",
        "df_reviews = pd.DataFrame(reviews_data)\n",
        "print(f\"Jumlah review yang berhasil diambil: {len(df_reviews)}\")\n",
        "\n",
        "# Tampilkan 5 review pertama\n",
        "df_reviews[['userName', 'content', 'score', 'at']].head()\n"
      ]
    },
    {
      "cell_type": "markdown",
      "metadata": {
        "id": "cSemyzQHU0On"
      },
      "source": [
        "# **4. Menyimpan Komentar ke CSV**\n"
      ]
    },
    {
      "cell_type": "code",
      "execution_count": 69,
      "metadata": {
        "id": "dKeejtvxM6X1"
      },
      "outputs": [
        {
          "name": "stdout",
          "output_type": "stream",
          "text": [
            "Data berhasil disimpan sebagai 'reviews_wondr_bni.csv'\n"
          ]
        }
      ],
      "source": [
        "# Simpan ke file CSV\n",
        "df_reviews[['userName', 'content', 'score', 'at']].to_csv('reviews_wondr_bni.csv', index=False)\n",
        "print(\"Data berhasil disimpan sebagai 'reviews_wondr_bni.csv'\")\n"
      ]
    },
    {
      "cell_type": "markdown",
      "metadata": {},
      "source": [
        "# **5. Penutup**\n"
      ]
    },
    {
      "cell_type": "markdown",
      "metadata": {},
      "source": [
        "## Hasil Akhir\n",
        "- Total review terkumpul: 39316\n",
        "- Sumber: Google Play Store - Wondr by BNI (`id.bni.wondr`)\n",
        "- File disimpan: `reviews_wondr_bni.csv`\n",
        "- Dataset ini akan digunakan untuk submission 1 BFDL (Analisis Sentimen).\n",
        "\n",
        "Proses scraping selesai!\n"
      ]
    }
  ],
  "metadata": {
    "colab": {
      "provenance": []
    },
    "kernelspec": {
      "display_name": "Python 3",
      "name": "python3"
    },
    "language_info": {
      "codemirror_mode": {
        "name": "ipython",
        "version": 3
      },
      "file_extension": ".py",
      "mimetype": "text/x-python",
      "name": "python",
      "nbconvert_exporter": "python",
      "pygments_lexer": "ipython3",
      "version": "3.11.5"
    }
  },
  "nbformat": 4,
  "nbformat_minor": 0
}
